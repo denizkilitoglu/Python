{
 "cells": [
  {
   "cell_type": "code",
   "execution_count": 7,
   "metadata": {},
   "outputs": [],
   "source": [
    "def faktoriyel(sayı):\n",
    "    faktoriyel = 1\n",
    "    if (sayı == 0 or sayı == 1):\n",
    "        print(\"Faktoriyel\",faktoriyel)\n",
    "    else:\n",
    "        while (sayı >= 1):\n",
    "            faktoriyel *= sayı\n",
    "            sayı -=1\n",
    "        print(\"Faktoriyel\", faktoriyel)\n",
    "        "
   ]
  },
  {
   "cell_type": "code",
   "execution_count": 8,
   "metadata": {},
   "outputs": [
    {
     "name": "stdout",
     "output_type": "stream",
     "text": [
      "Faktoriyel 120\n"
     ]
    }
   ],
   "source": [
    "faktoriyel(5)"
   ]
  }
 ],
 "metadata": {
  "kernelspec": {
   "display_name": "Python 3",
   "language": "python",
   "name": "python3"
  },
  "language_info": {
   "codemirror_mode": {
    "name": "ipython",
    "version": 3
   },
   "file_extension": ".py",
   "mimetype": "text/x-python",
   "name": "python",
   "nbconvert_exporter": "python",
   "pygments_lexer": "ipython3",
   "version": "3.8.3"
  }
 },
 "nbformat": 4,
 "nbformat_minor": 4
}
